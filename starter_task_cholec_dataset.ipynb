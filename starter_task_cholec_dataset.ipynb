{
  "nbformat": 4,
  "nbformat_minor": 0,
  "metadata": {
    "colab": {
      "name": "starter_task_cholec_dataset.ipynb",
      "provenance": [],
      "collapsed_sections": [],
      "authorship_tag": "ABX9TyPABsIMbg/gvuLVfJQobpUJ",
      "include_colab_link": true
    },
    "kernelspec": {
      "name": "python3",
      "display_name": "Python 3"
    },
    "language_info": {
      "name": "python"
    },
    "accelerator": "GPU"
  },
  "cells": [
    {
      "cell_type": "markdown",
      "metadata": {
        "id": "view-in-github",
        "colab_type": "text"
      },
      "source": [
        "<a href=\"https://colab.research.google.com/github/pgssanjana/gsoc-2022/blob/main/starter_task_cholec_dataset.ipynb\" target=\"_parent\"><img src=\"https://colab.research.google.com/assets/colab-badge.svg\" alt=\"Open In Colab\"/></a>"
      ]
    },
    {
      "cell_type": "code",
      "execution_count": 1,
      "metadata": {
        "id": "caKV1qvVNsmR"
      },
      "outputs": [],
      "source": [
        "import cv2"
      ]
    },
    {
      "cell_type": "code",
      "source": [
        "from google.colab import drive \n",
        "drive.mount('/content/gdrive')"
      ],
      "metadata": {
        "colab": {
          "base_uri": "https://localhost:8080/"
        },
        "id": "Y8aIDVhlN4eQ",
        "outputId": "b751eaae-ba98-4f4a-a567-58de451037c0"
      },
      "execution_count": 2,
      "outputs": [
        {
          "output_type": "stream",
          "name": "stdout",
          "text": [
            "Mounted at /content/gdrive\n"
          ]
        }
      ]
    },
    {
      "cell_type": "code",
      "source": [
        ""
      ],
      "metadata": {
        "id": "PNmsn9ddGeIq"
      },
      "execution_count": null,
      "outputs": []
    },
    {
      "cell_type": "markdown",
      "source": [
        "**VIDEOS TO FRAMES**"
      ],
      "metadata": {
        "id": "ke22_WXf1-VH"
      }
    },
    {
      "cell_type": "code",
      "source": [
        "# vidcap = cv2.VideoCapture('/content/gdrive/MyDrive/gsoc/videos/preparation.mp4')\n",
        "# success,image = vidcap.read()\n",
        "# count = 0\n",
        "# while success:\n",
        "#   cv2.imwrite(\"/content/gdrive/MyDrive/gsoc/prep-img/\"+\"frame%d.jpg\" % count, image)     # save frame as JPEG file\n",
        "#   success,image = vidcap.read()\n",
        "#   count += 1"
      ],
      "metadata": {
        "id": "BsDh29fZN4gh"
      },
      "execution_count": null,
      "outputs": []
    },
    {
      "cell_type": "code",
      "source": [
        "# count"
      ],
      "metadata": {
        "colab": {
          "base_uri": "https://localhost:8080/"
        },
        "id": "nEszfzJoN4jF",
        "outputId": "9eb90cb1-520c-4bfa-96a2-1c74b67cebad"
      },
      "execution_count": null,
      "outputs": [
        {
          "output_type": "execute_result",
          "data": {
            "text/plain": [
              "995"
            ]
          },
          "metadata": {},
          "execution_count": 19
        }
      ]
    },
    {
      "cell_type": "code",
      "source": [
        "# vidcap = cv2.VideoCapture('/content/gdrive/MyDrive/gsoc/videos/calot triangle dissection.mp4')\n",
        "# success,image = vidcap.read()\n",
        "# count = 0\n",
        "# while success:\n",
        "#   cv2.imwrite(\"/content/gdrive/MyDrive/gsoc/calottriangle-diss-imgs/\"+\"frame%d.jpg\" % count, image)     # save frame as JPEG file\n",
        "#   success,image = vidcap.read()\n",
        "#     count += 1\n",
        "# count"
      ],
      "metadata": {
        "colab": {
          "base_uri": "https://localhost:8080/"
        },
        "id": "-f778KNwN4l9",
        "outputId": "76d9bb63-f3be-4aa3-cd0d-613190336984"
      },
      "execution_count": null,
      "outputs": [
        {
          "output_type": "execute_result",
          "data": {
            "text/plain": [
              "844"
            ]
          },
          "metadata": {},
          "execution_count": 20
        }
      ]
    },
    {
      "cell_type": "code",
      "source": [
        "# vidcap = cv2.VideoCapture('/content/gdrive/MyDrive/gsoc/videos/cleaning coagulation.mp4')\n",
        "# success,image = vidcap.read()\n",
        "# count = 0\n",
        "# while success:\n",
        "#   cv2.imwrite(\"/content/gdrive/MyDrive/gsoc/cleaning-coag-imgs/\"+\"frame%d.jpg\" % count, image)     # save frame as JPEG file\n",
        "#   success,image = vidcap.read()\n",
        "#   count += 1\n",
        "# count"
      ],
      "metadata": {
        "colab": {
          "base_uri": "https://localhost:8080/"
        },
        "id": "pI_zywWfN4o4",
        "outputId": "49d346ef-3bee-4690-b209-1f00e35a5197"
      },
      "execution_count": null,
      "outputs": [
        {
          "output_type": "execute_result",
          "data": {
            "text/plain": [
              "741"
            ]
          },
          "metadata": {},
          "execution_count": 6
        }
      ]
    },
    {
      "cell_type": "code",
      "source": [
        "# vidcap = cv2.VideoCapture('/content/gdrive/MyDrive/gsoc/videos/clipping cutting.mp4')\n",
        "# success,image = vidcap.read()\n",
        "# count = 0\n",
        "# while success:\n",
        "#   cv2.imwrite(\"/content/gdrive/MyDrive/gsoc/clipping-cutting-imgs/\"+\"frame%d.jpg\" % count, image)     # save frame as JPEG file\n",
        "#   success,image = vidcap.read()\n",
        "#   count += 1\n",
        "# count"
      ],
      "metadata": {
        "colab": {
          "base_uri": "https://localhost:8080/"
        },
        "id": "LhQUBqU3OoNY",
        "outputId": "c577082a-b597-4625-b8ea-cd64c9dd5f84"
      },
      "execution_count": null,
      "outputs": [
        {
          "output_type": "execute_result",
          "data": {
            "text/plain": [
              "1033"
            ]
          },
          "metadata": {},
          "execution_count": 7
        }
      ]
    },
    {
      "cell_type": "code",
      "source": [
        "# vidcap = cv2.VideoCapture('/content/gdrive/MyDrive/gsoc/videos/galbladder dissection.mp4')\n",
        "# success,image = vidcap.read()\n",
        "# count = 0\n",
        "# while success:\n",
        "#   cv2.imwrite(\"/content/gdrive/MyDrive/gsoc/galbladder-disc-img/\"+\"frame%d.jpg\" % count, image)     # save frame as JPEG file\n",
        "#   success,image = vidcap.read()\n",
        "#   count += 1\n",
        "# count"
      ],
      "metadata": {
        "colab": {
          "base_uri": "https://localhost:8080/"
        },
        "id": "hqXZ8bj3Oob7",
        "outputId": "cc7ad5b3-ca8c-4883-e7d9-d705fea4ead7"
      },
      "execution_count": null,
      "outputs": [
        {
          "output_type": "execute_result",
          "data": {
            "text/plain": [
              "877"
            ]
          },
          "metadata": {},
          "execution_count": 9
        }
      ]
    },
    {
      "cell_type": "code",
      "source": [
        "# vidcap = cv2.VideoCapture('/content/gdrive/MyDrive/gsoc/videos/galbladder packaging.mp4')\n",
        "# success,image = vidcap.read()\n",
        "# count = 0\n",
        "# while success:\n",
        "#   cv2.imwrite(\"/content/gdrive/MyDrive/gsoc/galbladder-pack-imgs/\"+\"frame%d.jpg\" % count, image)     # save frame as JPEG file\n",
        "#   success,image = vidcap.read()\n",
        "#   count += 1\n",
        "# count"
      ],
      "metadata": {
        "colab": {
          "base_uri": "https://localhost:8080/"
        },
        "id": "X-XOAxsnO8W-",
        "outputId": "2c925873-e241-44d5-bdd1-11a6a2f4cb15"
      },
      "execution_count": null,
      "outputs": [
        {
          "output_type": "execute_result",
          "data": {
            "text/plain": [
              "995"
            ]
          },
          "metadata": {},
          "execution_count": 10
        }
      ]
    },
    {
      "cell_type": "markdown",
      "source": [
        "**MAKING THE DATASET**\n"
      ],
      "metadata": {
        "id": "j4FHS9Vy2Lpj"
      }
    },
    {
      "cell_type": "code",
      "source": [
        "# import os\n",
        "# import shutil\n",
        "# import numpy as np\n",
        "# def make_dirs_for_data():\n",
        "#   # par_dir=\"/content/gdrive/MyDrive/gsoc/model\"\n",
        "#   # path = par_dir+'/train'\n",
        "#   # os.mkdir(path)\n",
        "\n",
        "#   # par_dir=\"/content/gdrive/MyDrive/gsoc/model\"\n",
        "#   # path = par_dir+'/test'\n",
        "#   # os.mkdir(path)\n",
        "\n",
        "#   # par_dir=\"/content/gdrive/MyDrive/gsoc/model/train\"\n",
        "#   # path = par_dir+'/calottriangle-diss-imgs'\n",
        "#   # os.mkdir(path)\n",
        "\n",
        "#   # par_dir=\"/content/gdrive/MyDrive/gsoc/model/train\"\n",
        "#   # path = par_dir+'/cleaning-coag-imgs'\n",
        "#   # os.mkdir(path)\n",
        "\n",
        "#   # par_dir=\"/content/gdrive/MyDrive/gsoc/model/train\"\n",
        "#   # path = par_dir+'/clipping-cutting-imgs'\n",
        "#   # os.mkdir(path)\n",
        "\n",
        "\n",
        "#   # par_dir=\"/content/gdrive/MyDrive/gsoc/model/train\"\n",
        "#   # path = par_dir+'/galbladder-disc-img'\n",
        "#   # os.mkdir(path)\n",
        "\n",
        "#   # par_dir=\"/content/gdrive/MyDrive/gsoc/model/train\"\n",
        "#   # path = par_dir+'/galbladder-pack-imgs'\n",
        "#   # os.mkdir(path)\n",
        "\n",
        "#   # par_dir=\"/content/gdrive/MyDrive/gsoc/model/train\"\n",
        "#   # path = par_dir+'/prep-img'\n",
        "#   # os.mkdir(path)\n",
        "  \n",
        "#   # #test\n",
        "#   # par_dir=\"/content/gdrive/MyDrive/gsoc/model/test\"\n",
        "#   # path = par_dir+'/calottriangle-diss-imgs'\n",
        "#   # os.mkdir(path)\n",
        "\n",
        "#   # par_dir=\"/content/gdrive/MyDrive/gsoc/model/test\"\n",
        "#   # path = par_dir+'/cleaning-coag-imgs'\n",
        "#   # os.mkdir(path)\n",
        "\n",
        "#   # par_dir=\"/content/gdrive/MyDrive/gsoc/model/test\"\n",
        "#   # path = par_dir+'/clipping-cutting-imgs'\n",
        "#   # os.mkdir(path)\n",
        "\n",
        "\n",
        "#   # par_dir=\"/content/gdrive/MyDrive/gsoc/model/test\"\n",
        "#   # path = par_dir+'/galbladder-disc-img'\n",
        "#   # os.mkdir(path)\n",
        "\n",
        "#   # par_dir=\"/content/gdrive/MyDrive/gsoc/model/test\"\n",
        "#   # path = par_dir+'/galbladder-pack-imgs'\n",
        "#   # os.mkdir(path)\n",
        "\n",
        "#   # par_dir=\"/content/gdrive/MyDrive/gsoc/model/test\"\n",
        "#   # path = par_dir+'/prep-img'\n",
        "#   # os.mkdir(path)\n",
        "\n",
        "\n",
        "\n",
        " \n",
        "  \n",
        "#   # source = '/content/gdrive/MyDrive/gsoc/calottriangle-diss-imgs/'\n",
        "#   # destination = '/content/gdrive/MyDrive/gsoc/model/test/calottriangle-diss-imgs/'\n",
        "#   # allfiles = os.listdir(source)\n",
        "#   # # np.random.shuffle(allfiles)\n",
        "#   # allfiles = allfiles[600:]\n",
        "#   # for f in allfiles:\n",
        "#   #   shutil.move(source + f, destination + f)\n",
        "\n",
        "#   # source = '/content/gdrive/MyDrive/gsoc/calottriangle-diss-imgs/'\n",
        "#   # destination = '/content/gdrive/MyDrive/gsoc/model/train/calottriangle-diss-imgs/'\n",
        "#   # allfiles = os.listdir(source)\n",
        "#   # # np.random.shuffle(allfiles)\n",
        "#   # allfiles = allfiles[:600]\n",
        "#   # for f in allfiles:\n",
        "#   #   shutil.move(source + f, destination + f)\n",
        "  \n",
        "  \n",
        "\n",
        "\n",
        "  \n",
        "  \n",
        "#   # source = '/content/gdrive/MyDrive/gsoc/cleaning-coag-imgs/'\n",
        "#   # destination = '/content/gdrive/MyDrive/gsoc/model/test/cleaning-coag-imgs/'\n",
        "#   # allfiles = os.listdir(source)\n",
        "#   # # np.random.shuffle(allfiles)\n",
        "#   # allfiles = allfiles[550:]\n",
        "#   # for f in allfiles:\n",
        "#   #   shutil.move(source + f, destination + f)\n",
        "  \n",
        "#   # source = '/content/gdrive/MyDrive/gsoc/cleaning-coag-imgs/'\n",
        "#   # destination = '/content/gdrive/MyDrive/gsoc/model/train/cleaning-coag-imgs/'\n",
        "#   # allfiles = os.listdir(source)\n",
        "#   # np.random.shuffle(allfiles)\n",
        "#   # allfiles = allfiles[:550]\n",
        "#   # for f in allfiles:\n",
        "#   #   shutil.move(source + f, destination + f)\n",
        "\n",
        "\n",
        "# # #clipping-cutting\n",
        "  \n",
        "# #   source = '/content/gdrive/MyDrive/gsoc/clipping-cutting-imgs/'\n",
        "# #   destination = '/content/gdrive/MyDrive/gsoc/model/train/clipping-cutting-imgs/'\n",
        "# #   allfiles = os.listdir(source)\n",
        "# #   # np.random.shuffle(allfiles)\n",
        "# #   allfiles = allfiles[:750]\n",
        "# #   for f in allfiles:\n",
        "# #     shutil.move(source + f, destination + f)\n",
        "  \n",
        "# #   source = '/content/gdrive/MyDrive/gsoc/clipping-cutting-imgs/'\n",
        "# #   destination = '/content/gdrive/MyDrive/gsoc/model/test/clipping-cutting-imgs/'\n",
        "# #   allfiles = os.listdir(source)\n",
        "# #   # np.random.shuffle(allfiles)\n",
        "# #   allfiles = allfiles[750:]\n",
        "# #   for f in allfiles:\n",
        "# #     shutil.move(source + f, destination + f)\n",
        "  \n",
        "\n",
        "#   #gal-disc\n",
        "  \n",
        "  \n",
        "#   source = '/content/gdrive/MyDrive/gsoc/galbladder-disc-img/'\n",
        "#   destination = '/content/gdrive/MyDrive/gsoc/model/train/galbladder-disc-img/'\n",
        "#   allfiles = os.listdir(source)\n",
        "#   # np.random.shuffle(allfiles)\n",
        "#   allfiles = allfiles[:400]\n",
        "#   for f in allfiles:\n",
        "#     shutil.move(source + f, destination + f)\n",
        "\n",
        "#   source = '/content/gdrive/MyDrive/gsoc/galbladder-disc-img/'\n",
        "#   destination = '/content/gdrive/MyDrive/gsoc/model/test/galbladder-disc-img/'\n",
        "#   allfiles = os.listdir(source)\n",
        "#   # np.random.shuffle(allfiles)\n",
        "#   allfiles = allfiles[400:]\n",
        "#   for f in allfiles:\n",
        "#     shutil.move(source + f, destination + f)\n",
        "\n",
        "#   #gal-pack\n",
        "\n",
        "  \n",
        "  \n",
        "#   source = '/content/gdrive/MyDrive/gsoc/galbladder-pack-imgs/'\n",
        "#   destination = '/content/gdrive/MyDrive/gsoc/model/train/galbladder-pack-imgs/'\n",
        "#   allfiles = os.listdir(source)\n",
        "#   # np.random.shuffle(allfiles)\n",
        "#   allfiles = allfiles[:500]\n",
        "#   for f in allfiles:\n",
        "#     shutil.move(source + f, destination + f)\n",
        "\n",
        "#   source = '/content/gdrive/MyDrive/gsoc/galbladder-pack-imgs/'\n",
        "#   destination = '/content/gdrive/MyDrive/gsoc/model/test/galbladder-pack-imgs/'\n",
        "#   allfiles = os.listdir(source)\n",
        "#   # np.random.shuffle(allfiles)\n",
        "#   allfiles = allfiles[500:]\n",
        "#   for f in allfiles:\n",
        "#     shutil.move(source + f, destination + f)\n",
        "\n",
        "#   #prep\n",
        "  \n",
        "  \n",
        "#   # source = '/content/gdrive/MyDrive/gsoc/prep-img/'\n",
        "#   # destination = '/content/gdrive/MyDrive/gsoc/model/train/prep-img/'\n",
        "#   # allfiles = os.listdir(source)\n",
        "#   # # np.random.shuffle(allfiles)\n",
        "#   # allfiles = allfiles[:100]\n",
        "  \n",
        "#   # for f in allfiles:\n",
        "#   #   shutil.move(source + f, destination + f)\n",
        "  \n",
        "#   # source = '/content/gdrive/MyDrive/gsoc/prep-img/'\n",
        "#   # destination = '/content/gdrive/MyDrive/gsoc/model/test/prep-img/'\n",
        "#   # allfiles = os.listdir(source)\n",
        "#   # # np.random.shuffle(allfiles)\n",
        "#   # allfiles = allfiles[100:]\n",
        "#   # for f in allfiles:\n",
        "#   #   shutil.move(source + f, destination + f)\n",
        "\n",
        "#   print(\"train-calot triangle\",len(os.listdir('/content/gdrive/MyDrive/gsoc/model/train/calottriangle-diss-imgs')))\n",
        "#   print(\"train-cleaning coag\",len(os.listdir('/content/gdrive/MyDrive/gsoc/model/train/cleaning-coag-imgs')))\n",
        "#   print(\"train-clipping cutting\",len(os.listdir('/content/gdrive/MyDrive/gsoc/model/train/clipping-cutting-imgs')))\n",
        "#   print(\"train-gal dissection\",len(os.listdir('/content/gdrive/MyDrive/gsoc/model/train/galbladder-disc-img')))\n",
        "#   print(\"train-gal pack\",len(os.listdir('/content/gdrive/MyDrive/gsoc/model/train/galbladder-pack-imgs')))\n",
        "#   print(\"train-prep\",len(os.listdir('/content/gdrive/MyDrive/gsoc/model/train/prep-img')))\n",
        "\n",
        "#   print(\"test-calot triangle\",len(os.listdir('/content/gdrive/MyDrive/gsoc/model/test/calottriangle-diss-imgs')))\n",
        "#   print(\"test-cleaning coag\",len(os.listdir('/content/gdrive/MyDrive/gsoc/model/test/cleaning-coag-imgs')))\n",
        "#   print(\"test-clipping cutting\",len(os.listdir('/content/gdrive/MyDrive/gsoc/model/test/clipping-cutting-imgs')))\n",
        "#   print(\"test-gal dissection\",len(os.listdir('/content/gdrive/MyDrive/gsoc/model/test/galbladder-disc-img')))\n",
        "#   print(\"test-gal pack\",len(os.listdir('/content/gdrive/MyDrive/gsoc/model/test/galbladder-pack-imgs')))\n",
        "#   print(\"test-prep\",len(os.listdir('/content/gdrive/MyDrive/gsoc/model/test/prep-img')))\n",
        "\n",
        "\n",
        "\n",
        "\n",
        "\n"
      ],
      "metadata": {
        "id": "dmzdxYchO8aT"
      },
      "execution_count": null,
      "outputs": []
    },
    {
      "cell_type": "code",
      "source": [
        "# source = '/content/gdrive/MyDrive/gsoc/model/train/prep-img/'\n",
        "# destination = '/content/gdrive/MyDrive/gsoc/model/test/prep-img/'\n",
        "# allfiles = os.listdir(source)\n",
        "# # np.random.shuffle(allfiles)\n",
        "# allfiles = allfiles[100:]\n",
        "# for f in allfiles:\n",
        "#   shutil.move(source + f, destination + f)\n"
      ],
      "metadata": {
        "id": "0mr2sMylSsEt"
      },
      "execution_count": null,
      "outputs": []
    },
    {
      "cell_type": "code",
      "source": [
        "# source = '/content/gdrive/MyDrive/gsoc/model/train/galbladder-pack-imgs/'\n",
        "# destination = '/content/gdrive/MyDrive/gsoc/model/test/galbladder-pack-imgs/'\n",
        "# allfiles = os.listdir(source)\n",
        "# # np.random.shuffle(allfiles)\n",
        "# allfiles = allfiles[500:]\n",
        "# for f in allfiles:\n",
        "#   shutil.move(source + f, destination + f)\n"
      ],
      "metadata": {
        "id": "p02eZt-_SsHs"
      },
      "execution_count": null,
      "outputs": []
    },
    {
      "cell_type": "code",
      "source": [
        "# source = '/content/gdrive/MyDrive/gsoc/model/train/galbladder-disc-img/'\n",
        "# destination = '/content/gdrive/MyDrive/gsoc/model/test/galbladder-disc-img/'\n",
        "# allfiles = os.listdir(source)\n",
        "# # np.random.shuffle(allfiles)\n",
        "# allfiles = allfiles[400:]\n",
        "# for f in allfiles:\n",
        "#   shutil.move(source + f, destination + f)"
      ],
      "metadata": {
        "id": "3f3nYHaeSsKk"
      },
      "execution_count": null,
      "outputs": []
    },
    {
      "cell_type": "code",
      "source": [
        "import os\n",
        "import shutil\n",
        "import numpy as np\n",
        "source = '/content/gdrive/MyDrive/gsoc/model/test/clipping-cutting-imgs/'\n",
        "destination = '/content/gdrive/MyDrive/gsoc/model/train/clipping-cutting-imgs/'\n",
        "allfiles = os.listdir(source)\n",
        "# np.random.shuffle(allfiles)\n",
        "allfiles = allfiles[300:]\n",
        "for f in allfiles:\n",
        "  shutil.move(source + f, destination + f)"
      ],
      "metadata": {
        "id": "66BR5kZ5I016"
      },
      "execution_count": 6,
      "outputs": []
    },
    {
      "cell_type": "code",
      "source": [
        "source = '/content/gdrive/MyDrive/gsoc/model/test/galbladder-disc-img/'\n",
        "destination = '/content/gdrive/MyDrive/gsoc/model/train/galbladder-disc-img/'\n",
        "allfiles = os.listdir(source)\n",
        "# np.random.shuffle(allfiles)\n",
        "allfiles = allfiles[300:]\n",
        "for f in allfiles:\n",
        "  shutil.move(source + f, destination + f)"
      ],
      "metadata": {
        "id": "7wLiGCoBJaQX"
      },
      "execution_count": 8,
      "outputs": []
    },
    {
      "cell_type": "code",
      "source": [
        "source = '/content/gdrive/MyDrive/gsoc/model/test/galbladder-disc-img/'\n",
        "destination = '/content/gdrive/MyDrive/gsoc/model/train/galbladder-disc-img/'\n",
        "allfiles = os.listdir(source)\n",
        "# np.random.shuffle(allfiles)\n",
        "allfiles = allfiles[200:]\n",
        "for f in allfiles:\n",
        "  shutil.move(source + f, destination + f)"
      ],
      "metadata": {
        "id": "XmsjH1iiKCog"
      },
      "execution_count": 10,
      "outputs": []
    },
    {
      "cell_type": "code",
      "source": [
        "source = '/content/gdrive/MyDrive/gsoc/model/test/galbladder-pack-imgs/'\n",
        "destination = '/content/gdrive/MyDrive/gsoc/model/train/galbladder-pack-imgs/'\n",
        "allfiles = os.listdir(source)\n",
        "# np.random.shuffle(allfiles)\n",
        "allfiles = allfiles[200:]\n",
        "for f in allfiles:\n",
        "  shutil.move(source + f, destination + f)"
      ],
      "metadata": {
        "id": "mSJkRPPSKRdb"
      },
      "execution_count": 12,
      "outputs": []
    },
    {
      "cell_type": "code",
      "source": [
        "# make_dirs_for_data()"
      ],
      "metadata": {
        "id": "82pmrZ6aO8de"
      },
      "execution_count": null,
      "outputs": []
    },
    {
      "cell_type": "code",
      "source": [
        "import os\n",
        "print(\"train-calot triangle\",len(os.listdir('/content/gdrive/MyDrive/gsoc/model/train/calottriangle-diss-imgs')))\n",
        "print(\"train-cleaning coag\",len(os.listdir('/content/gdrive/MyDrive/gsoc/model/train/cleaning-coag-imgs')))\n",
        "print(\"train-clipping cutting\",len(os.listdir('/content/gdrive/MyDrive/gsoc/model/train/clipping-cutting-imgs')))\n",
        "print(\"train-gal dissection\",len(os.listdir('/content/gdrive/MyDrive/gsoc/model/train/galbladder-disc-img')))\n",
        "print(\"train-gal pack\",len(os.listdir('/content/gdrive/MyDrive/gsoc/model/train/galbladder-pack-imgs')))\n",
        "print(\"train-prep\",len(os.listdir('/content/gdrive/MyDrive/gsoc/model/train/prep-img')))\n",
        "\n",
        "print(\"test-calot triangle\",len(os.listdir('/content/gdrive/MyDrive/gsoc/model/test/calottriangle-diss-imgs')))\n",
        "print(\"test-cleaning coag\",len(os.listdir('/content/gdrive/MyDrive/gsoc/model/test/cleaning-coag-imgs')))\n",
        "print(\"test-clipping cutting\",len(os.listdir('/content/gdrive/MyDrive/gsoc/model/test/clipping-cutting-imgs')))\n",
        "print(\"test-gal dissection\",len(os.listdir('/content/gdrive/MyDrive/gsoc/model/test/galbladder-disc-img')))\n",
        "print(\"test-gal pack\",len(os.listdir('/content/gdrive/MyDrive/gsoc/model/test/galbladder-pack-imgs')))\n",
        "print(\"test-prep\",len(os.listdir('/content/gdrive/MyDrive/gsoc/model/test/prep-img')))\n",
        "\n",
        "\n"
      ],
      "metadata": {
        "colab": {
          "base_uri": "https://localhost:8080/"
        },
        "id": "9m_BQn7gTdYF",
        "outputId": "6c31dd74-a1a7-490e-c5cc-8ff956cf2cff"
      },
      "execution_count": 13,
      "outputs": [
        {
          "output_type": "stream",
          "name": "stdout",
          "text": [
            "train-calot triangle 600\n",
            "train-cleaning coag 550\n",
            "train-clipping cutting 733\n",
            "train-gal dissection 677\n",
            "train-gal pack 795\n",
            "train-prep 100\n",
            "test-calot triangle 244\n",
            "test-cleaning coag 191\n",
            "test-clipping cutting 300\n",
            "test-gal dissection 200\n",
            "test-gal pack 200\n",
            "test-prep 75\n"
          ]
        }
      ]
    },
    {
      "cell_type": "markdown",
      "source": [
        "**MODEL**"
      ],
      "metadata": {
        "id": "rVABF_BH2RcE"
      }
    },
    {
      "cell_type": "code",
      "source": [
        "from tensorflow.keras.layers import Conv2D, Flatten, Dense, MaxPool2D, BatchNormalization, GlobalAveragePooling2D\n",
        "from tensorflow.keras.applications.resnet50 import preprocess_input, decode_predictions \n",
        "from tensorflow.keras.preprocessing.image import ImageDataGenerator, load_img\n",
        "from tensorflow.keras.applications.resnet50 import ResNet50\n",
        "from tensorflow.keras.preprocessing import image\n",
        "from tensorflow.keras.models import Sequential \n",
        "from tensorflow.keras.models import Model\n",
        "import matplotlib.pyplot as plt\n",
        "import numpy as np"
      ],
      "metadata": {
        "id": "hQQKDXneTday"
      },
      "execution_count": 2,
      "outputs": []
    },
    {
      "cell_type": "code",
      "source": [
        "img_height,img_width = (224,224)\n",
        "batch_size=32\n",
        "\n",
        "test_data='/content/gdrive/MyDrive/gsoc/model/test'\n",
        "\n",
        "train_data='/content/gdrive/MyDrive/gsoc/model/train'"
      ],
      "metadata": {
        "id": "kPG3dfmXT3sz"
      },
      "execution_count": 3,
      "outputs": []
    },
    {
      "cell_type": "code",
      "source": [
        "train_datagen = ImageDataGenerator(preprocessing_function=preprocess_input,\n",
        "                                   shear_range=0.2,\n",
        "                                   zoom_range=0.2,\n",
        "                                   horizontal_flip=True,\n",
        "                                   validation_split=0.4)\n",
        "\n",
        "train_generator =train_datagen.flow_from_directory(\n",
        "    train_data,\n",
        "    target_size=(img_height, img_width),\n",
        "    batch_size=batch_size, \n",
        "    class_mode='categorical'\n",
        "    # subset='training'\n",
        ")"
      ],
      "metadata": {
        "colab": {
          "base_uri": "https://localhost:8080/"
        },
        "id": "T7glWnMYT3vp",
        "outputId": "9c9aa018-0051-49ed-9603-35f3f5e43090"
      },
      "execution_count": 4,
      "outputs": [
        {
          "output_type": "stream",
          "name": "stdout",
          "text": [
            "Found 3455 images belonging to 6 classes.\n"
          ]
        }
      ]
    },
    {
      "cell_type": "code",
      "source": [
        "test_generator =train_datagen.flow_from_directory( test_data, # same directory as training data\n",
        "                                                 target_size=(img_height, img_width),\n",
        "                                                 batch_size=1, \n",
        "                                                  class_mode='categorical' \n",
        "                                                  # subset='validation'\n",
        "                                                  )"
      ],
      "metadata": {
        "colab": {
          "base_uri": "https://localhost:8080/"
        },
        "id": "LJpHJ4-4T3yp",
        "outputId": "a15d6768-bf1a-4bea-935c-f756b74fa6f0"
      },
      "execution_count": 6,
      "outputs": [
        {
          "output_type": "stream",
          "name": "stdout",
          "text": [
            "Found 1210 images belonging to 6 classes.\n"
          ]
        }
      ]
    },
    {
      "cell_type": "code",
      "source": [
        "val_generator = train_datagen.flow_from_directory(\n",
        "    test_data,\n",
        "    target_size=(img_height,img_width),\n",
        "     batch_size=batch_size,\n",
        "    class_mode='categorical'\n",
        "    # subset='validation'\n",
        "    )"
      ],
      "metadata": {
        "colab": {
          "base_uri": "https://localhost:8080/"
        },
        "id": "oGDYMMXLV0a3",
        "outputId": "609220e2-87e3-4591-c257-c7026e272186"
      },
      "execution_count": 13,
      "outputs": [
        {
          "output_type": "stream",
          "name": "stdout",
          "text": [
            "Found 1210 images belonging to 6 classes.\n"
          ]
        }
      ]
    },
    {
      "cell_type": "code",
      "source": [
        "x,y=test_generator.next()\n",
        "x.shape\n"
      ],
      "metadata": {
        "colab": {
          "base_uri": "https://localhost:8080/"
        },
        "id": "QEw7K0FuT31R",
        "outputId": "089288e9-3691-47d3-99ab-4e46fffa1687"
      },
      "execution_count": 7,
      "outputs": [
        {
          "output_type": "execute_result",
          "data": {
            "text/plain": [
              "(1, 224, 224, 3)"
            ]
          },
          "metadata": {},
          "execution_count": 7
        }
      ]
    },
    {
      "cell_type": "code",
      "source": [
        "import tensorflow as tf\n",
        "my_callbacks = [\n",
        "    tf.keras.callbacks.EarlyStopping(patience=2),\n",
        "    tf.keras.callbacks.ModelCheckpoint(filepath='model.{epoch:02d}-{val_loss:.2f}.h5',\n",
        "                              monitor='val_loss',\n",
        "                             verbose=1, \n",
        "                             save_best_only=True),\n",
        "    tf.keras.callbacks.TensorBoard(log_dir='./logs'),\n",
        "]"
      ],
      "metadata": {
        "id": "m-3o4_UGT34J"
      },
      "execution_count": 8,
      "outputs": []
    },
    {
      "cell_type": "code",
      "source": [
        "from tensorflow.keras.applications.resnet50 import ResNet50\n",
        "from keras.layers import *\n",
        "from keras.models import Model\n",
        "from tensorflow.keras.optimizers import Adam\n",
        "\n",
        "base_model=ResNet50(include_top=False,weights='imagenet',input_shape=(224,224,3))\n",
        "\n",
        "av1=GlobalAveragePooling2D()(base_model.output)\n",
        "fc1 = Dense(256,activation='relu')(av1)\n",
        "fc2=Dense(1,activation='sigmoid')(fc1)\n",
        "\n",
        "model_new=Model(inputs=base_model.input,outputs=fc2)\n",
        "\n",
        "for layer in base_model.layers:\n",
        "  layer.trainable=False\n",
        "\n",
        "adam=Adam(learning_rate=0.00003)\n",
        "model_new.compile(optimizer=Adam(lr=0.003),metrics=['accuracy'],loss='binary_crossentropy')\n",
        "\n",
        "History = model_new.fit(train_generator,validation_data=val_generator,epochs=10,verbose=1,callbacks=my_callbacks,steps_per_epoch=32)"
      ],
      "metadata": {
        "colab": {
          "base_uri": "https://localhost:8080/"
        },
        "id": "ed-18JXpIE02",
        "outputId": "e78ba7da-d777-4c24-86d7-e80701f1b4f7"
      },
      "execution_count": 11,
      "outputs": [
        {
          "metadata": {
            "tags": null
          },
          "name": "stderr",
          "output_type": "stream",
          "text": [
            "/usr/local/lib/python3.7/dist-packages/keras/optimizer_v2/adam.py:105: UserWarning: The `lr` argument is deprecated, use `learning_rate` instead.\n",
            "  super(Adam, self).__init__(name, **kwargs)\n"
          ]
        },
        {
          "output_type": "stream",
          "name": "stdout",
          "text": [
            "Epoch 1/10\n",
            "32/32 [==============================] - ETA: 0s - loss: 1.8312 - accuracy: 0.7129\n",
            "Epoch 1: val_loss improved from inf to 0.51767, saving model to model.01-0.52.h5\n",
            "32/32 [==============================] - 123s 4s/step - loss: 1.8312 - accuracy: 0.7129 - val_loss: 0.5177 - val_accuracy: 0.8234\n",
            "Epoch 2/10\n",
            "32/32 [==============================] - ETA: 0s - loss: 0.5079 - accuracy: 0.8249\n",
            "Epoch 2: val_loss improved from 0.51767 to 0.47009, saving model to model.02-0.47.h5\n",
            "32/32 [==============================] - 109s 3s/step - loss: 0.5079 - accuracy: 0.8249 - val_loss: 0.4701 - val_accuracy: 0.8333\n",
            "Epoch 3/10\n",
            "32/32 [==============================] - ETA: 0s - loss: 0.4556 - accuracy: 0.8333\n",
            "Epoch 3: val_loss improved from 0.47009 to 0.45354, saving model to model.03-0.45.h5\n",
            "32/32 [==============================] - 95s 3s/step - loss: 0.4556 - accuracy: 0.8333 - val_loss: 0.4535 - val_accuracy: 0.8333\n",
            "Epoch 4/10\n",
            "32/32 [==============================] - ETA: 0s - loss: 0.4528 - accuracy: 0.8333\n",
            "Epoch 4: val_loss improved from 0.45354 to 0.45349, saving model to model.04-0.45.h5\n",
            "32/32 [==============================] - 71s 2s/step - loss: 0.4528 - accuracy: 0.8333 - val_loss: 0.4535 - val_accuracy: 0.8333\n",
            "Epoch 5/10\n",
            "32/32 [==============================] - ETA: 0s - loss: 0.4521 - accuracy: 0.8333\n",
            "Epoch 5: val_loss improved from 0.45349 to 0.45219, saving model to model.05-0.45.h5\n",
            "32/32 [==============================] - 69s 2s/step - loss: 0.4521 - accuracy: 0.8333 - val_loss: 0.4522 - val_accuracy: 0.8333\n",
            "Epoch 6/10\n",
            "32/32 [==============================] - ETA: 0s - loss: 0.4519 - accuracy: 0.8333\n",
            "Epoch 6: val_loss improved from 0.45219 to 0.45199, saving model to model.06-0.45.h5\n",
            "32/32 [==============================] - 65s 2s/step - loss: 0.4519 - accuracy: 0.8333 - val_loss: 0.4520 - val_accuracy: 0.8333\n",
            "Epoch 7/10\n",
            "32/32 [==============================] - ETA: 0s - loss: 0.4516 - accuracy: 0.8333\n",
            "Epoch 7: val_loss improved from 0.45199 to 0.45183, saving model to model.07-0.45.h5\n",
            "32/32 [==============================] - 59s 2s/step - loss: 0.4516 - accuracy: 0.8333 - val_loss: 0.4518 - val_accuracy: 0.8333\n",
            "Epoch 8/10\n",
            "32/32 [==============================] - ETA: 0s - loss: 0.4518 - accuracy: 0.8333\n",
            "Epoch 8: val_loss did not improve from 0.45183\n",
            "32/32 [==============================] - 58s 2s/step - loss: 0.4518 - accuracy: 0.8333 - val_loss: 0.4519 - val_accuracy: 0.8333\n",
            "Epoch 9/10\n",
            "32/32 [==============================] - ETA: 0s - loss: 0.4516 - accuracy: 0.8333\n",
            "Epoch 9: val_loss did not improve from 0.45183\n",
            "32/32 [==============================] - 57s 2s/step - loss: 0.4516 - accuracy: 0.8333 - val_loss: 0.4520 - val_accuracy: 0.8333\n"
          ]
        }
      ]
    },
    {
      "cell_type": "code",
      "source": [
        "test_loss,test_accuracy= model_new.evaluate(test_generator,verbose=2)\n"
      ],
      "metadata": {
        "id": "1CoDHlfZVceG",
        "colab": {
          "base_uri": "https://localhost:8080/"
        },
        "outputId": "c638bda7-35b2-4a9e-e1c2-793703c7c5a5"
      },
      "execution_count": 39,
      "outputs": [
        {
          "output_type": "stream",
          "name": "stdout",
          "text": [
            "1210/1210 - 46s - loss: 0.4517 - accuracy: 0.8333 - 46s/epoch - 38ms/step\n"
          ]
        }
      ]
    },
    {
      "cell_type": "code",
      "source": [
        ""
      ],
      "metadata": {
        "id": "haI9uhm4AOl8"
      },
      "execution_count": null,
      "outputs": []
    },
    {
      "cell_type": "code",
      "source": [
        ""
      ],
      "metadata": {
        "id": "lmHV6qxZAOiJ"
      },
      "execution_count": null,
      "outputs": []
    }
  ]
}