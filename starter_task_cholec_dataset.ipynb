{
  "nbformat": 4,
  "nbformat_minor": 0,
  "metadata": {
    "colab": {
      "name": "starter_task_cholec_dataset.ipynb",
      "provenance": [],
      "collapsed_sections": [],
      "authorship_tag": "ABX9TyOmN+l03p75PIJLlKKkTt8L",
      "include_colab_link": true
    },
    "kernelspec": {
      "name": "python3",
      "display_name": "Python 3"
    },
    "language_info": {
      "name": "python"
    },
    "accelerator": "GPU"
  },
  "cells": [
    {
      "cell_type": "markdown",
      "metadata": {
        "id": "view-in-github",
        "colab_type": "text"
      },
      "source": [
        "<a href=\"https://colab.research.google.com/github/pgssanjana/gsoc-2022/blob/main/starter_task_cholec_dataset.ipynb\" target=\"_parent\"><img src=\"https://colab.research.google.com/assets/colab-badge.svg\" alt=\"Open In Colab\"/></a>"
      ]
    },
    {
      "cell_type": "code",
      "execution_count": 6,
      "metadata": {
        "id": "caKV1qvVNsmR"
      },
      "outputs": [],
      "source": [
        "import cv2"
      ]
    },
    {
      "cell_type": "code",
      "source": [
        "from google.colab import drive \n",
        "drive.mount('/content/gdrive')"
      ],
      "metadata": {
        "colab": {
          "base_uri": "https://localhost:8080/"
        },
        "id": "Y8aIDVhlN4eQ",
        "outputId": "45ba0147-b486-4b2c-e0e3-25b6db36d988"
      },
      "execution_count": 7,
      "outputs": [
        {
          "output_type": "stream",
          "name": "stdout",
          "text": [
            "Mounted at /content/gdrive\n"
          ]
        }
      ]
    },
    {
      "cell_type": "markdown",
      "source": [
        "**VIDEOS TO FRAMES**"
      ],
      "metadata": {
        "id": "ke22_WXf1-VH"
      }
    },
    {
      "cell_type": "code",
      "source": [
        "# vidcap = cv2.VideoCapture('/content/gdrive/MyDrive/gsoc/videos/preparation.mp4')\n",
        "# success,image = vidcap.read()\n",
        "# count = 0\n",
        "# while success:\n",
        "#   cv2.imwrite(\"/content/gdrive/MyDrive/gsoc/prep-img/\"+\"frame%d.jpg\" % count, image)     # save frame as JPEG file\n",
        "#   success,image = vidcap.read()\n",
        "#   count += 1"
      ],
      "metadata": {
        "id": "BsDh29fZN4gh"
      },
      "execution_count": null,
      "outputs": []
    },
    {
      "cell_type": "code",
      "source": [
        "# count"
      ],
      "metadata": {
        "colab": {
          "base_uri": "https://localhost:8080/"
        },
        "id": "nEszfzJoN4jF",
        "outputId": "9eb90cb1-520c-4bfa-96a2-1c74b67cebad"
      },
      "execution_count": null,
      "outputs": [
        {
          "output_type": "execute_result",
          "data": {
            "text/plain": [
              "995"
            ]
          },
          "metadata": {},
          "execution_count": 19
        }
      ]
    },
    {
      "cell_type": "code",
      "source": [
        "# vidcap = cv2.VideoCapture('/content/gdrive/MyDrive/gsoc/videos/calot triangle dissection.mp4')\n",
        "# success,image = vidcap.read()\n",
        "# count = 0\n",
        "# while success:\n",
        "#   cv2.imwrite(\"/content/gdrive/MyDrive/gsoc/calottriangle-diss-imgs/\"+\"frame%d.jpg\" % count, image)     # save frame as JPEG file\n",
        "#   success,image = vidcap.read()\n",
        "#     count += 1\n",
        "# count"
      ],
      "metadata": {
        "colab": {
          "base_uri": "https://localhost:8080/"
        },
        "id": "-f778KNwN4l9",
        "outputId": "76d9bb63-f3be-4aa3-cd0d-613190336984"
      },
      "execution_count": null,
      "outputs": [
        {
          "output_type": "execute_result",
          "data": {
            "text/plain": [
              "844"
            ]
          },
          "metadata": {},
          "execution_count": 20
        }
      ]
    },
    {
      "cell_type": "code",
      "source": [
        "# vidcap = cv2.VideoCapture('/content/gdrive/MyDrive/gsoc/videos/cleaning coagulation.mp4')\n",
        "# success,image = vidcap.read()\n",
        "# count = 0\n",
        "# while success:\n",
        "#   cv2.imwrite(\"/content/gdrive/MyDrive/gsoc/cleaning-coag-imgs/\"+\"frame%d.jpg\" % count, image)     # save frame as JPEG file\n",
        "#   success,image = vidcap.read()\n",
        "#   count += 1\n",
        "# count"
      ],
      "metadata": {
        "colab": {
          "base_uri": "https://localhost:8080/"
        },
        "id": "pI_zywWfN4o4",
        "outputId": "49d346ef-3bee-4690-b209-1f00e35a5197"
      },
      "execution_count": null,
      "outputs": [
        {
          "output_type": "execute_result",
          "data": {
            "text/plain": [
              "741"
            ]
          },
          "metadata": {},
          "execution_count": 6
        }
      ]
    },
    {
      "cell_type": "code",
      "source": [
        "# vidcap = cv2.VideoCapture('/content/gdrive/MyDrive/gsoc/videos/clipping cutting.mp4')\n",
        "# success,image = vidcap.read()\n",
        "# count = 0\n",
        "# while success:\n",
        "#   cv2.imwrite(\"/content/gdrive/MyDrive/gsoc/clipping-cutting-imgs/\"+\"frame%d.jpg\" % count, image)     # save frame as JPEG file\n",
        "#   success,image = vidcap.read()\n",
        "#   count += 1\n",
        "# count"
      ],
      "metadata": {
        "colab": {
          "base_uri": "https://localhost:8080/"
        },
        "id": "LhQUBqU3OoNY",
        "outputId": "c577082a-b597-4625-b8ea-cd64c9dd5f84"
      },
      "execution_count": null,
      "outputs": [
        {
          "output_type": "execute_result",
          "data": {
            "text/plain": [
              "1033"
            ]
          },
          "metadata": {},
          "execution_count": 7
        }
      ]
    },
    {
      "cell_type": "code",
      "source": [
        "# vidcap = cv2.VideoCapture('/content/gdrive/MyDrive/gsoc/videos/galbladder dissection.mp4')\n",
        "# success,image = vidcap.read()\n",
        "# count = 0\n",
        "# while success:\n",
        "#   cv2.imwrite(\"/content/gdrive/MyDrive/gsoc/galbladder-disc-img/\"+\"frame%d.jpg\" % count, image)     # save frame as JPEG file\n",
        "#   success,image = vidcap.read()\n",
        "#   count += 1\n",
        "# count"
      ],
      "metadata": {
        "colab": {
          "base_uri": "https://localhost:8080/"
        },
        "id": "hqXZ8bj3Oob7",
        "outputId": "cc7ad5b3-ca8c-4883-e7d9-d705fea4ead7"
      },
      "execution_count": null,
      "outputs": [
        {
          "output_type": "execute_result",
          "data": {
            "text/plain": [
              "877"
            ]
          },
          "metadata": {},
          "execution_count": 9
        }
      ]
    },
    {
      "cell_type": "code",
      "source": [
        "# vidcap = cv2.VideoCapture('/content/gdrive/MyDrive/gsoc/videos/galbladder packaging.mp4')\n",
        "# success,image = vidcap.read()\n",
        "# count = 0\n",
        "# while success:\n",
        "#   cv2.imwrite(\"/content/gdrive/MyDrive/gsoc/galbladder-pack-imgs/\"+\"frame%d.jpg\" % count, image)     # save frame as JPEG file\n",
        "#   success,image = vidcap.read()\n",
        "#   count += 1\n",
        "# count"
      ],
      "metadata": {
        "colab": {
          "base_uri": "https://localhost:8080/"
        },
        "id": "X-XOAxsnO8W-",
        "outputId": "2c925873-e241-44d5-bdd1-11a6a2f4cb15"
      },
      "execution_count": null,
      "outputs": [
        {
          "output_type": "execute_result",
          "data": {
            "text/plain": [
              "995"
            ]
          },
          "metadata": {},
          "execution_count": 10
        }
      ]
    },
    {
      "cell_type": "markdown",
      "source": [
        "**MAKING THE DATASET**\n"
      ],
      "metadata": {
        "id": "j4FHS9Vy2Lpj"
      }
    },
    {
      "cell_type": "code",
      "source": [
        "# import os\n",
        "# import shutil\n",
        "# import numpy as np\n",
        "# def make_dirs_for_data():\n",
        "#   # par_dir=\"/content/gdrive/MyDrive/gsoc/model\"\n",
        "#   # path = par_dir+'/train'\n",
        "#   # os.mkdir(path)\n",
        "\n",
        "#   # par_dir=\"/content/gdrive/MyDrive/gsoc/model\"\n",
        "#   # path = par_dir+'/test'\n",
        "#   # os.mkdir(path)\n",
        "\n",
        "#   # par_dir=\"/content/gdrive/MyDrive/gsoc/model/train\"\n",
        "#   # path = par_dir+'/calottriangle-diss-imgs'\n",
        "#   # os.mkdir(path)\n",
        "\n",
        "#   # par_dir=\"/content/gdrive/MyDrive/gsoc/model/train\"\n",
        "#   # path = par_dir+'/cleaning-coag-imgs'\n",
        "#   # os.mkdir(path)\n",
        "\n",
        "#   # par_dir=\"/content/gdrive/MyDrive/gsoc/model/train\"\n",
        "#   # path = par_dir+'/clipping-cutting-imgs'\n",
        "#   # os.mkdir(path)\n",
        "\n",
        "\n",
        "#   # par_dir=\"/content/gdrive/MyDrive/gsoc/model/train\"\n",
        "#   # path = par_dir+'/galbladder-disc-img'\n",
        "#   # os.mkdir(path)\n",
        "\n",
        "#   # par_dir=\"/content/gdrive/MyDrive/gsoc/model/train\"\n",
        "#   # path = par_dir+'/galbladder-pack-imgs'\n",
        "#   # os.mkdir(path)\n",
        "\n",
        "#   # par_dir=\"/content/gdrive/MyDrive/gsoc/model/train\"\n",
        "#   # path = par_dir+'/prep-img'\n",
        "#   # os.mkdir(path)\n",
        "  \n",
        "#   # #test\n",
        "#   # par_dir=\"/content/gdrive/MyDrive/gsoc/model/test\"\n",
        "#   # path = par_dir+'/calottriangle-diss-imgs'\n",
        "#   # os.mkdir(path)\n",
        "\n",
        "#   # par_dir=\"/content/gdrive/MyDrive/gsoc/model/test\"\n",
        "#   # path = par_dir+'/cleaning-coag-imgs'\n",
        "#   # os.mkdir(path)\n",
        "\n",
        "#   # par_dir=\"/content/gdrive/MyDrive/gsoc/model/test\"\n",
        "#   # path = par_dir+'/clipping-cutting-imgs'\n",
        "#   # os.mkdir(path)\n",
        "\n",
        "\n",
        "#   # par_dir=\"/content/gdrive/MyDrive/gsoc/model/test\"\n",
        "#   # path = par_dir+'/galbladder-disc-img'\n",
        "#   # os.mkdir(path)\n",
        "\n",
        "#   # par_dir=\"/content/gdrive/MyDrive/gsoc/model/test\"\n",
        "#   # path = par_dir+'/galbladder-pack-imgs'\n",
        "#   # os.mkdir(path)\n",
        "\n",
        "#   # par_dir=\"/content/gdrive/MyDrive/gsoc/model/test\"\n",
        "#   # path = par_dir+'/prep-img'\n",
        "#   # os.mkdir(path)\n",
        "\n",
        "\n",
        "\n",
        " \n",
        "  \n",
        "#   # source = '/content/gdrive/MyDrive/gsoc/calottriangle-diss-imgs/'\n",
        "#   # destination = '/content/gdrive/MyDrive/gsoc/model/test/calottriangle-diss-imgs/'\n",
        "#   # allfiles = os.listdir(source)\n",
        "#   # # np.random.shuffle(allfiles)\n",
        "#   # allfiles = allfiles[600:]\n",
        "#   # for f in allfiles:\n",
        "#   #   shutil.move(source + f, destination + f)\n",
        "\n",
        "#   # source = '/content/gdrive/MyDrive/gsoc/calottriangle-diss-imgs/'\n",
        "#   # destination = '/content/gdrive/MyDrive/gsoc/model/train/calottriangle-diss-imgs/'\n",
        "#   # allfiles = os.listdir(source)\n",
        "#   # # np.random.shuffle(allfiles)\n",
        "#   # allfiles = allfiles[:600]\n",
        "#   # for f in allfiles:\n",
        "#   #   shutil.move(source + f, destination + f)\n",
        "  \n",
        "  \n",
        "\n",
        "\n",
        "  \n",
        "  \n",
        "#   # source = '/content/gdrive/MyDrive/gsoc/cleaning-coag-imgs/'\n",
        "#   # destination = '/content/gdrive/MyDrive/gsoc/model/test/cleaning-coag-imgs/'\n",
        "#   # allfiles = os.listdir(source)\n",
        "#   # # np.random.shuffle(allfiles)\n",
        "#   # allfiles = allfiles[550:]\n",
        "#   # for f in allfiles:\n",
        "#   #   shutil.move(source + f, destination + f)\n",
        "  \n",
        "#   # source = '/content/gdrive/MyDrive/gsoc/cleaning-coag-imgs/'\n",
        "#   # destination = '/content/gdrive/MyDrive/gsoc/model/train/cleaning-coag-imgs/'\n",
        "#   # allfiles = os.listdir(source)\n",
        "#   # np.random.shuffle(allfiles)\n",
        "#   # allfiles = allfiles[:550]\n",
        "#   # for f in allfiles:\n",
        "#   #   shutil.move(source + f, destination + f)\n",
        "\n",
        "\n",
        "# # #clipping-cutting\n",
        "  \n",
        "# #   source = '/content/gdrive/MyDrive/gsoc/clipping-cutting-imgs/'\n",
        "# #   destination = '/content/gdrive/MyDrive/gsoc/model/train/clipping-cutting-imgs/'\n",
        "# #   allfiles = os.listdir(source)\n",
        "# #   # np.random.shuffle(allfiles)\n",
        "# #   allfiles = allfiles[:750]\n",
        "# #   for f in allfiles:\n",
        "# #     shutil.move(source + f, destination + f)\n",
        "  \n",
        "# #   source = '/content/gdrive/MyDrive/gsoc/clipping-cutting-imgs/'\n",
        "# #   destination = '/content/gdrive/MyDrive/gsoc/model/test/clipping-cutting-imgs/'\n",
        "# #   allfiles = os.listdir(source)\n",
        "# #   # np.random.shuffle(allfiles)\n",
        "# #   allfiles = allfiles[750:]\n",
        "# #   for f in allfiles:\n",
        "# #     shutil.move(source + f, destination + f)\n",
        "  \n",
        "\n",
        "#   #gal-disc\n",
        "  \n",
        "  \n",
        "#   source = '/content/gdrive/MyDrive/gsoc/galbladder-disc-img/'\n",
        "#   destination = '/content/gdrive/MyDrive/gsoc/model/train/galbladder-disc-img/'\n",
        "#   allfiles = os.listdir(source)\n",
        "#   # np.random.shuffle(allfiles)\n",
        "#   allfiles = allfiles[:400]\n",
        "#   for f in allfiles:\n",
        "#     shutil.move(source + f, destination + f)\n",
        "\n",
        "#   source = '/content/gdrive/MyDrive/gsoc/galbladder-disc-img/'\n",
        "#   destination = '/content/gdrive/MyDrive/gsoc/model/test/galbladder-disc-img/'\n",
        "#   allfiles = os.listdir(source)\n",
        "#   # np.random.shuffle(allfiles)\n",
        "#   allfiles = allfiles[400:]\n",
        "#   for f in allfiles:\n",
        "#     shutil.move(source + f, destination + f)\n",
        "\n",
        "#   #gal-pack\n",
        "\n",
        "  \n",
        "  \n",
        "#   source = '/content/gdrive/MyDrive/gsoc/galbladder-pack-imgs/'\n",
        "#   destination = '/content/gdrive/MyDrive/gsoc/model/train/galbladder-pack-imgs/'\n",
        "#   allfiles = os.listdir(source)\n",
        "#   # np.random.shuffle(allfiles)\n",
        "#   allfiles = allfiles[:500]\n",
        "#   for f in allfiles:\n",
        "#     shutil.move(source + f, destination + f)\n",
        "\n",
        "#   source = '/content/gdrive/MyDrive/gsoc/galbladder-pack-imgs/'\n",
        "#   destination = '/content/gdrive/MyDrive/gsoc/model/test/galbladder-pack-imgs/'\n",
        "#   allfiles = os.listdir(source)\n",
        "#   # np.random.shuffle(allfiles)\n",
        "#   allfiles = allfiles[500:]\n",
        "#   for f in allfiles:\n",
        "#     shutil.move(source + f, destination + f)\n",
        "\n",
        "#   #prep\n",
        "  \n",
        "  \n",
        "#   # source = '/content/gdrive/MyDrive/gsoc/prep-img/'\n",
        "#   # destination = '/content/gdrive/MyDrive/gsoc/model/train/prep-img/'\n",
        "#   # allfiles = os.listdir(source)\n",
        "#   # # np.random.shuffle(allfiles)\n",
        "#   # allfiles = allfiles[:100]\n",
        "  \n",
        "#   # for f in allfiles:\n",
        "#   #   shutil.move(source + f, destination + f)\n",
        "  \n",
        "#   # source = '/content/gdrive/MyDrive/gsoc/prep-img/'\n",
        "#   # destination = '/content/gdrive/MyDrive/gsoc/model/test/prep-img/'\n",
        "#   # allfiles = os.listdir(source)\n",
        "#   # # np.random.shuffle(allfiles)\n",
        "#   # allfiles = allfiles[100:]\n",
        "#   # for f in allfiles:\n",
        "#   #   shutil.move(source + f, destination + f)\n",
        "\n",
        "#   print(\"train-calot triangle\",len(os.listdir('/content/gdrive/MyDrive/gsoc/model/train/calottriangle-diss-imgs')))\n",
        "#   print(\"train-cleaning coag\",len(os.listdir('/content/gdrive/MyDrive/gsoc/model/train/cleaning-coag-imgs')))\n",
        "#   print(\"train-clipping cutting\",len(os.listdir('/content/gdrive/MyDrive/gsoc/model/train/clipping-cutting-imgs')))\n",
        "#   print(\"train-gal dissection\",len(os.listdir('/content/gdrive/MyDrive/gsoc/model/train/galbladder-disc-img')))\n",
        "#   print(\"train-gal pack\",len(os.listdir('/content/gdrive/MyDrive/gsoc/model/train/galbladder-pack-imgs')))\n",
        "#   print(\"train-prep\",len(os.listdir('/content/gdrive/MyDrive/gsoc/model/train/prep-img')))\n",
        "\n",
        "#   print(\"test-calot triangle\",len(os.listdir('/content/gdrive/MyDrive/gsoc/model/test/calottriangle-diss-imgs')))\n",
        "#   print(\"test-cleaning coag\",len(os.listdir('/content/gdrive/MyDrive/gsoc/model/test/cleaning-coag-imgs')))\n",
        "#   print(\"test-clipping cutting\",len(os.listdir('/content/gdrive/MyDrive/gsoc/model/test/clipping-cutting-imgs')))\n",
        "#   print(\"test-gal dissection\",len(os.listdir('/content/gdrive/MyDrive/gsoc/model/test/galbladder-disc-img')))\n",
        "#   print(\"test-gal pack\",len(os.listdir('/content/gdrive/MyDrive/gsoc/model/test/galbladder-pack-imgs')))\n",
        "#   print(\"test-prep\",len(os.listdir('/content/gdrive/MyDrive/gsoc/model/test/prep-img')))\n",
        "\n",
        "\n",
        "\n",
        "\n",
        "\n"
      ],
      "metadata": {
        "id": "dmzdxYchO8aT"
      },
      "execution_count": null,
      "outputs": []
    },
    {
      "cell_type": "code",
      "source": [
        "# source = '/content/gdrive/MyDrive/gsoc/model/train/prep-img/'\n",
        "# destination = '/content/gdrive/MyDrive/gsoc/model/test/prep-img/'\n",
        "# allfiles = os.listdir(source)\n",
        "# # np.random.shuffle(allfiles)\n",
        "# allfiles = allfiles[100:]\n",
        "# for f in allfiles:\n",
        "#   shutil.move(source + f, destination + f)\n"
      ],
      "metadata": {
        "id": "0mr2sMylSsEt"
      },
      "execution_count": null,
      "outputs": []
    },
    {
      "cell_type": "code",
      "source": [
        "# source = '/content/gdrive/MyDrive/gsoc/model/train/galbladder-pack-imgs/'\n",
        "# destination = '/content/gdrive/MyDrive/gsoc/model/test/galbladder-pack-imgs/'\n",
        "# allfiles = os.listdir(source)\n",
        "# # np.random.shuffle(allfiles)\n",
        "# allfiles = allfiles[500:]\n",
        "# for f in allfiles:\n",
        "#   shutil.move(source + f, destination + f)\n"
      ],
      "metadata": {
        "id": "p02eZt-_SsHs"
      },
      "execution_count": null,
      "outputs": []
    },
    {
      "cell_type": "code",
      "source": [
        "# source = '/content/gdrive/MyDrive/gsoc/model/train/galbladder-disc-img/'\n",
        "# destination = '/content/gdrive/MyDrive/gsoc/model/test/galbladder-disc-img/'\n",
        "# allfiles = os.listdir(source)\n",
        "# # np.random.shuffle(allfiles)\n",
        "# allfiles = allfiles[400:]\n",
        "# for f in allfiles:\n",
        "#   shutil.move(source + f, destination + f)"
      ],
      "metadata": {
        "id": "3f3nYHaeSsKk"
      },
      "execution_count": null,
      "outputs": []
    },
    {
      "cell_type": "code",
      "source": [
        "# make_dirs_for_data()"
      ],
      "metadata": {
        "colab": {
          "base_uri": "https://localhost:8080/"
        },
        "id": "82pmrZ6aO8de",
        "outputId": "e4a1d706-9850-472e-8f9e-36aa97fa06f0"
      },
      "execution_count": null,
      "outputs": [
        {
          "output_type": "stream",
          "name": "stdout",
          "text": [
            "train-calot triangle 600\n",
            "train-cleaning coag 550\n",
            "train-clipping cutting 283\n",
            "train-gal dissection 877\n",
            "train-gal pack 995\n",
            "train-prep 175\n",
            "test-calot triangle 244\n",
            "test-cleaning coag 191\n",
            "test-clipping cutting 750\n",
            "test-gal dissection 0\n",
            "test-gal pack 0\n",
            "test-prep 0\n"
          ]
        }
      ]
    },
    {
      "cell_type": "code",
      "source": [
        "# print(\"train-calot triangle\",len(os.listdir('/content/gdrive/MyDrive/gsoc/model/train/calottriangle-diss-imgs')))\n",
        "# print(\"train-cleaning coag\",len(os.listdir('/content/gdrive/MyDrive/gsoc/model/train/cleaning-coag-imgs')))\n",
        "# print(\"train-clipping cutting\",len(os.listdir('/content/gdrive/MyDrive/gsoc/model/train/clipping-cutting-imgs')))\n",
        "# print(\"train-gal dissection\",len(os.listdir('/content/gdrive/MyDrive/gsoc/model/train/galbladder-disc-img')))\n",
        "# print(\"train-gal pack\",len(os.listdir('/content/gdrive/MyDrive/gsoc/model/train/galbladder-pack-imgs')))\n",
        "# print(\"train-prep\",len(os.listdir('/content/gdrive/MyDrive/gsoc/model/train/prep-img')))\n",
        "\n",
        "# print(\"test-calot triangle\",len(os.listdir('/content/gdrive/MyDrive/gsoc/model/test/calottriangle-diss-imgs')))\n",
        "# print(\"test-cleaning coag\",len(os.listdir('/content/gdrive/MyDrive/gsoc/model/test/cleaning-coag-imgs')))\n",
        "# print(\"test-clipping cutting\",len(os.listdir('/content/gdrive/MyDrive/gsoc/model/test/clipping-cutting-imgs')))\n",
        "# print(\"test-gal dissection\",len(os.listdir('/content/gdrive/MyDrive/gsoc/model/test/galbladder-disc-img')))\n",
        "# print(\"test-gal pack\",len(os.listdir('/content/gdrive/MyDrive/gsoc/model/test/galbladder-pack-imgs')))\n",
        "# print(\"test-prep\",len(os.listdir('/content/gdrive/MyDrive/gsoc/model/test/prep-img')))\n",
        "\n",
        "\n"
      ],
      "metadata": {
        "colab": {
          "base_uri": "https://localhost:8080/"
        },
        "id": "9m_BQn7gTdYF",
        "outputId": "bd0276bf-fd10-4fbb-bcee-ffbc3cb24e4f"
      },
      "execution_count": null,
      "outputs": [
        {
          "output_type": "stream",
          "name": "stdout",
          "text": [
            "train-calot triangle 600\n",
            "train-cleaning coag 550\n",
            "train-clipping cutting 283\n",
            "train-gal dissection 400\n",
            "train-gal pack 500\n",
            "train-prep 100\n",
            "test-calot triangle 244\n",
            "test-cleaning coag 191\n",
            "test-clipping cutting 750\n",
            "test-gal dissection 477\n",
            "test-gal pack 495\n",
            "test-prep 75\n"
          ]
        }
      ]
    },
    {
      "cell_type": "markdown",
      "source": [
        "**MODEL**"
      ],
      "metadata": {
        "id": "rVABF_BH2RcE"
      }
    },
    {
      "cell_type": "code",
      "source": [
        "from tensorflow.keras.layers import Conv2D, Flatten, Dense, MaxPool2D, BatchNormalization, GlobalAveragePooling2D\n",
        "from tensorflow.keras.applications.resnet50 import preprocess_input, decode_predictions \n",
        "from tensorflow.keras.preprocessing.image import ImageDataGenerator, load_img\n",
        "from tensorflow.keras.applications.resnet50 import ResNet50\n",
        "from tensorflow.keras.preprocessing import image\n",
        "from tensorflow.keras.models import Sequential \n",
        "from tensorflow.keras.models import Model\n",
        "import matplotlib.pyplot as plt\n",
        "import numpy as np"
      ],
      "metadata": {
        "id": "hQQKDXneTday"
      },
      "execution_count": 1,
      "outputs": []
    },
    {
      "cell_type": "code",
      "source": [
        "img_height,img_width = (224,224)\n",
        "batch_size=32\n",
        "\n",
        "test_data='/content/gdrive/MyDrive/gsoc/model/test'\n",
        "\n",
        "train_data='/content/gdrive/MyDrive/gsoc/model/train'"
      ],
      "metadata": {
        "id": "kPG3dfmXT3sz"
      },
      "execution_count": 2,
      "outputs": []
    },
    {
      "cell_type": "code",
      "source": [
        "train_datagen = ImageDataGenerator(preprocessing_function=preprocess_input,\n",
        "                                   shear_range=0.2,\n",
        "                                   zoom_range=0.2,\n",
        "                                   horizontal_flip=True,\n",
        "                                   validation_split=0.4)\n",
        "\n",
        "train_generator =train_datagen.flow_from_directory(\n",
        "    train_data,\n",
        "    target_size=(img_height, img_width),\n",
        "    batch_size=batch_size, \n",
        "    class_mode='categorical'\n",
        "    # subset='training'\n",
        ")"
      ],
      "metadata": {
        "colab": {
          "base_uri": "https://localhost:8080/"
        },
        "id": "T7glWnMYT3vp",
        "outputId": "1dec4ccd-9284-49ec-e7b5-df25aa2d1250"
      },
      "execution_count": 8,
      "outputs": [
        {
          "output_type": "stream",
          "name": "stdout",
          "text": [
            "Found 2433 images belonging to 6 classes.\n"
          ]
        }
      ]
    },
    {
      "cell_type": "code",
      "source": [
        "test_generator =train_datagen.flow_from_directory( test_data, # same directory as training data\n",
        "                                                 target_size=(img_height, img_width),\n",
        "                                                 batch_size=1, \n",
        "                                                  class_mode='categorical' \n",
        "                                                  # subset='validation'\n",
        "                                                  )"
      ],
      "metadata": {
        "colab": {
          "base_uri": "https://localhost:8080/"
        },
        "id": "LJpHJ4-4T3yp",
        "outputId": "32099d9b-937d-4ef9-cfd7-aad1759f4c07"
      },
      "execution_count": 9,
      "outputs": [
        {
          "output_type": "stream",
          "name": "stdout",
          "text": [
            "Found 2232 images belonging to 6 classes.\n"
          ]
        }
      ]
    },
    {
      "cell_type": "code",
      "source": [
        "val_generator = train_datagen.flow_from_directory(\n",
        "    test_data,\n",
        "    target_size=(img_height,img_width),\n",
        "     batch_size=batch_size,\n",
        "    class_mode='categorical'\n",
        "    # subset='validation'\n",
        "    )"
      ],
      "metadata": {
        "colab": {
          "base_uri": "https://localhost:8080/"
        },
        "id": "oGDYMMXLV0a3",
        "outputId": "b150434a-f7ac-4663-ccbf-29c0723532f6"
      },
      "execution_count": 10,
      "outputs": [
        {
          "output_type": "stream",
          "name": "stdout",
          "text": [
            "Found 2232 images belonging to 6 classes.\n"
          ]
        }
      ]
    },
    {
      "cell_type": "code",
      "source": [
        "x,y=test_generator.next()\n",
        "x.shape"
      ],
      "metadata": {
        "colab": {
          "base_uri": "https://localhost:8080/"
        },
        "id": "QEw7K0FuT31R",
        "outputId": "ac8abfa3-3690-447e-bf8a-1423c3fff0e5"
      },
      "execution_count": 11,
      "outputs": [
        {
          "output_type": "execute_result",
          "data": {
            "text/plain": [
              "(1, 224, 224, 3)"
            ]
          },
          "metadata": {},
          "execution_count": 11
        }
      ]
    },
    {
      "cell_type": "code",
      "source": [
        "import tensorflow as tf\n",
        "my_callbacks = [\n",
        "    tf.keras.callbacks.EarlyStopping(patience=2),\n",
        "    tf.keras.callbacks.ModelCheckpoint(filepath='model.{epoch:02d}-{val_loss:.2f}.h5',\n",
        "                              monitor='val_loss',\n",
        "                             verbose=1, \n",
        "                             save_best_only=True),\n",
        "    tf.keras.callbacks.TensorBoard(log_dir='./logs'),\n",
        "]"
      ],
      "metadata": {
        "id": "m-3o4_UGT34J"
      },
      "execution_count": 12,
      "outputs": []
    },
    {
      "cell_type": "code",
      "source": [
        "from tensorflow.keras.applications.resnet50 import ResNet50\n",
        "base_model=ResNet50(include_top=False, weights='imagenet')\n",
        "x=base_model.output\n",
        "x = GlobalAveragePooling2D() (x)\n",
        "x=Dense(1024, activation='relu')(x)\n",
        "# x=Flatten()(x)\n",
        "predictions=Dense(1, activation='sigmoid')(x) #train_generator.num_classes\n",
        "model=Model(inputs=base_model.input,outputs=predictions)\n",
        "\n",
        "for layer in base_model.layers: \n",
        "  layer.trainable=False\n",
        "\n",
        "from tensorflow.keras.optimizers import Adam\n",
        "model.compile(optimizer=Adam(lr=0.003), loss=\"binary_crossentropy\", metrics = ['accuracy'])\n",
        "\n",
        "# history = base_model.fit(train_generator,\n",
        "#                                   validation_data=val_generator,\n",
        "#                                   steps_per_epoch=32,  #int(2488/batch_size),\n",
        "#                                   epochs=15,\n",
        "#                                   verbose=1,\n",
        "# )                      \n",
        "History = model.fit(train_generator,validation_data=val_generator,epochs = 10,verbose=1,callbacks=my_callbacks)"
      ],
      "metadata": {
        "colab": {
          "base_uri": "https://localhost:8080/"
        },
        "id": "GAU1ixJHVcY2",
        "outputId": "bcc6abb9-7acc-4178-bd64-d5e6a2534de5"
      },
      "execution_count": 13,
      "outputs": [
        {
          "metadata": {
            "tags": null
          },
          "name": "stdout",
          "output_type": "stream",
          "text": [
            "Downloading data from https://storage.googleapis.com/tensorflow/keras-applications/resnet/resnet50_weights_tf_dim_ordering_tf_kernels_notop.h5\n",
            "94773248/94765736 [==============================] - 1s 0us/step\n",
            "94781440/94765736 [==============================] - 1s 0us/step\n"
          ]
        },
        {
          "metadata": {
            "tags": null
          },
          "name": "stderr",
          "output_type": "stream",
          "text": [
            "/usr/local/lib/python3.7/dist-packages/keras/optimizer_v2/adam.py:105: UserWarning: The `lr` argument is deprecated, use `learning_rate` instead.\n",
            "  super(Adam, self).__init__(name, **kwargs)\n"
          ]
        },
        {
          "output_type": "stream",
          "name": "stdout",
          "text": [
            "Epoch 1/10\n",
            "77/77 [==============================] - ETA: 0s - loss: 0.8268 - accuracy: 0.8078\n",
            "Epoch 1: val_loss improved from inf to 0.45149, saving model to model.01-0.45.h5\n",
            "77/77 [==============================] - 1013s 13s/step - loss: 0.8268 - accuracy: 0.8078 - val_loss: 0.4515 - val_accuracy: 0.8333\n",
            "Epoch 2/10\n",
            "77/77 [==============================] - ETA: 0s - loss: 0.4510 - accuracy: 0.8333\n",
            "Epoch 2: val_loss improved from 0.45149 to 0.45110, saving model to model.02-0.45.h5\n",
            "77/77 [==============================] - 101s 1s/step - loss: 0.4510 - accuracy: 0.8333 - val_loss: 0.4511 - val_accuracy: 0.8333\n",
            "Epoch 3/10\n",
            "77/77 [==============================] - ETA: 0s - loss: 0.4508 - accuracy: 0.8333\n",
            "Epoch 3: val_loss did not improve from 0.45110\n",
            "77/77 [==============================] - 100s 1s/step - loss: 0.4508 - accuracy: 0.8333 - val_loss: 0.4511 - val_accuracy: 0.8333\n",
            "Epoch 4/10\n",
            "77/77 [==============================] - ETA: 0s - loss: 0.4510 - accuracy: 0.8333\n",
            "Epoch 4: val_loss improved from 0.45110 to 0.45088, saving model to model.04-0.45.h5\n",
            "77/77 [==============================] - 101s 1s/step - loss: 0.4510 - accuracy: 0.8333 - val_loss: 0.4509 - val_accuracy: 0.8333\n",
            "Epoch 5/10\n",
            "77/77 [==============================] - ETA: 0s - loss: 0.4509 - accuracy: 0.8333\n",
            "Epoch 5: val_loss improved from 0.45088 to 0.45086, saving model to model.05-0.45.h5\n",
            "77/77 [==============================] - 101s 1s/step - loss: 0.4509 - accuracy: 0.8333 - val_loss: 0.4509 - val_accuracy: 0.8333\n",
            "Epoch 6/10\n",
            "77/77 [==============================] - ETA: 0s - loss: 0.4507 - accuracy: 0.8333\n",
            "Epoch 6: val_loss improved from 0.45086 to 0.45085, saving model to model.06-0.45.h5\n",
            "77/77 [==============================] - 101s 1s/step - loss: 0.4507 - accuracy: 0.8333 - val_loss: 0.4508 - val_accuracy: 0.8333\n",
            "Epoch 7/10\n",
            "77/77 [==============================] - ETA: 0s - loss: 0.4507 - accuracy: 0.8333\n",
            "Epoch 7: val_loss improved from 0.45085 to 0.45081, saving model to model.07-0.45.h5\n",
            "77/77 [==============================] - 101s 1s/step - loss: 0.4507 - accuracy: 0.8333 - val_loss: 0.4508 - val_accuracy: 0.8333\n",
            "Epoch 8/10\n",
            "77/77 [==============================] - ETA: 0s - loss: 0.4508 - accuracy: 0.8333\n",
            "Epoch 8: val_loss improved from 0.45081 to 0.45078, saving model to model.08-0.45.h5\n",
            "77/77 [==============================] - 101s 1s/step - loss: 0.4508 - accuracy: 0.8333 - val_loss: 0.4508 - val_accuracy: 0.8333\n",
            "Epoch 9/10\n",
            "77/77 [==============================] - ETA: 0s - loss: 0.4507 - accuracy: 0.8333\n",
            "Epoch 9: val_loss did not improve from 0.45078\n",
            "77/77 [==============================] - 100s 1s/step - loss: 0.4507 - accuracy: 0.8333 - val_loss: 0.4508 - val_accuracy: 0.8333\n",
            "Epoch 10/10\n",
            "77/77 [==============================] - ETA: 0s - loss: 0.4507 - accuracy: 0.8333\n",
            "Epoch 10: val_loss improved from 0.45078 to 0.45078, saving model to model.10-0.45.h5\n",
            "77/77 [==============================] - 101s 1s/step - loss: 0.4507 - accuracy: 0.8333 - val_loss: 0.4508 - val_accuracy: 0.8333\n"
          ]
        }
      ]
    },
    {
      "cell_type": "code",
      "source": [
        "import ctypes\n",
        "# ctypes.cast(0x7ffa1bb2e650,ctypes.py_object).value\n",
        "# history = ctypes.cast(0x7ffa1bb2e650,ctypes.py_object).value\n",
        "plt.style.use(\"seaborn-dark\")\n",
        "plt.title(\"Accuracy\")\n",
        "plt.plot(History.history['accuracy'],label=\"accuracy\",c='green')\n",
        "plt.plot(History.history['val_accuracy'],label=\"val_accuracy\",c='orange')\n",
        "plt.legend()\n",
        "plt.show()\n",
        "# history"
      ],
      "metadata": {
        "id": "gT3HVItfWVqT",
        "colab": {
          "base_uri": "https://localhost:8080/",
          "height": 277
        },
        "outputId": "1d2cdf26-0f96-4c61-a41c-c7fa71816eb0"
      },
      "execution_count": 14,
      "outputs": [
        {
          "output_type": "display_data",
          "data": {
            "text/plain": [
              "<Figure size 432x288 with 1 Axes>"
            ],
            "image/png": "[encoded data removed]"
          },
          "metadata": {}
        }
      ]
    },
    {
      "cell_type": "code",
      "source": [
        "plt.style.use(\"seaborn-dark\")\n",
        "plt.title(\"Loss\")\n",
        "plt.plot(History.history['loss'],label=\"loss\",c='green')\n",
        "plt.plot(History.history['val_loss'],label=\"val_loss\",c='orange')\n",
        "plt.legend()\n",
        "plt.show()"
      ],
      "metadata": {
        "id": "QH-horfuVcbV",
        "colab": {
          "base_uri": "https://localhost:8080/",
          "height": 277
        },
        "outputId": "7c0b5ed4-32c7-47d3-c3e6-9e4bc9eecd3b"
      },
      "execution_count": 15,
      "outputs": [
        {
          "output_type": "display_data",
          "data": {
            "text/plain": [
              "<Figure size 432x288 with 1 Axes>"
            ],
            "image/png": "[encoded data removed]"
          },
          "metadata": {}
        }
      ]
    },
    {
      "cell_type": "code",
      "source": [
        "test_loss,test_accuracy= model.evaluate(test_generator,verbose=2)\n"
      ],
      "metadata": {
        "id": "1CoDHlfZVceG",
        "colab": {
          "base_uri": "https://localhost:8080/"
        },
        "outputId": "4e9ecf5e-c310-41af-e667-971723ec2af8"
      },
      "execution_count": 16,
      "outputs": [
        {
          "output_type": "stream",
          "name": "stdout",
          "text": [
            "2232/2232 - 69s - loss: 0.4508 - accuracy: 0.8333 - 69s/epoch - 31ms/step\n"
          ]
        }
      ]
    },
    {
      "cell_type": "code",
      "source": [
        ""
      ],
      "metadata": {
        "id": "haI9uhm4AOl8"
      },
      "execution_count": null,
      "outputs": []
    },
    {
      "cell_type": "code",
      "source": [
        ""
      ],
      "metadata": {
        "id": "lmHV6qxZAOiJ"
      },
      "execution_count": null,
      "outputs": []
    },
    {
      "cell_type": "code",
      "source": [
        ""
      ],
      "metadata": {
        "id": "3KcCzimVAMdl"
      },
      "execution_count": null,
      "outputs": []
    },
    {
      "cell_type": "code",
      "source": [
        ""
      ],
      "metadata": {
        "id": "P-y2giqhAMhv"
      },
      "execution_count": null,
      "outputs": []
    },
    {
      "cell_type": "code",
      "source": [
        ""
      ],
      "metadata": {
        "id": "7so52_J3AMlM"
      },
      "execution_count": null,
      "outputs": []
    }
  ]
}